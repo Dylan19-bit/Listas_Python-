{
 "cells": [
  {
   "cell_type": "markdown",
   "metadata": {},
   "source": [
    "# Listas en Python\n",
    "## Ejercicio 1: Crear una lista de 5 elemtos y mostrarla por pantalla "
   ]
  },
  {
   "cell_type": "code",
   "execution_count": 8,
   "metadata": {},
   "outputs": [
    {
     "name": "stdout",
     "output_type": "stream",
     "text": [
      "['Lapiz', 'Cuaderno', 'Borrador', 'Libro', 500]\n"
     ]
    }
   ],
   "source": [
    "pedro = [\"Lapiz\",\"Cuaderno\",\"Borrador\",\"Libro\",500]\n",
    "print(pedro)"
   ]
  },
  {
   "cell_type": "markdown",
   "metadata": {},
   "source": [
    "## Ejercicio 2: Muestre la cantidad de elementos de la lista creada previamente"
   ]
  },
  {
   "cell_type": "code",
   "execution_count": 9,
   "metadata": {},
   "outputs": [
    {
     "data": {
      "text/plain": [
       "5"
      ]
     },
     "execution_count": 9,
     "metadata": {},
     "output_type": "execute_result"
    }
   ],
   "source": [
    "len(pedro)"
   ]
  },
  {
   "cell_type": "markdown",
   "metadata": {},
   "source": [
    "## Ejercicio 3. mostrar los elemnetos 0, 2 y 4 "
   ]
  },
  {
   "cell_type": "code",
   "execution_count": 10,
   "metadata": {},
   "outputs": [
    {
     "name": "stdout",
     "output_type": "stream",
     "text": [
      "El elememto 0 es: Lapiz\n",
      "El elemento 2 es: Borrador\n",
      "El elemento 4 es: 500\n"
     ]
    }
   ],
   "source": [
    "print(f\"El elememto 0 es: {pedro[0]}\")\n",
    "print(f\"El elemento 2 es: {pedro[2]}\")\n",
    "print(f\"El elemento 4 es: {pedro[4]}\")\n"
   ]
  },
  {
   "cell_type": "markdown",
   "metadata": {},
   "source": [
    "## Ejercio 4: Agregar un nuevo elemento a la lista pedro y muestra el ultimo elemento "
   ]
  },
  {
   "cell_type": "code",
   "execution_count": 11,
   "metadata": {},
   "outputs": [
    {
     "name": "stdout",
     "output_type": "stream",
     "text": [
      "EL ultimo elemento de la lista es pluma\n"
     ]
    }
   ],
   "source": [
    "pedro.append(\"pluma\")\n",
    "print(f\"EL ultimo elemento de la lista es {pedro[-1]}\")"
   ]
  },
  {
   "cell_type": "markdown",
   "metadata": {},
   "source": [
    "## Ejercicio 5. Cambia el elemento numero 2 de la lista ´pedro´ por ´Manzana´ e imprima la lista completa "
   ]
  },
  {
   "cell_type": "code",
   "execution_count": 12,
   "metadata": {},
   "outputs": [
    {
     "name": "stdout",
     "output_type": "stream",
     "text": [
      "El elemento 1 era Cuaderno y ahora es Manzana \n",
      "La lista ahora es: ['Lapiz', 'Manzana', 'Borrador', 'Libro', 500, 'pluma']\n"
     ]
    }
   ],
   "source": [
    "a = pedro[1]\n",
    "pedro[1] = \"Manzana\"\n",
    "print(f\"El elemento 1 era {a} y ahora es {pedro[1]} \\nLa lista ahora es: {pedro}\") "
   ]
  },
  {
   "cell_type": "markdown",
   "metadata": {},
   "source": [
    "## Tarea 1 \n",
    "Crear una lista de los numeros del 1 al 10 "
   ]
  },
  {
   "cell_type": "code",
   "execution_count": 13,
   "metadata": {},
   "outputs": [
    {
     "name": "stdout",
     "output_type": "stream",
     "text": [
      "[1, 2, 3, 4, 5, 6, 7, 8, 9, 10]\n"
     ]
    }
   ],
   "source": [
    "numeros = [1,2,3,4,5,6,7,8,9,10]\n",
    "print(numeros)"
   ]
  },
  {
   "cell_type": "markdown",
   "metadata": {},
   "source": [
    "## Tarea 2.\n",
    "Duplicar los elemtos de la lista numeros y agregalos al final de la lista "
   ]
  },
  {
   "cell_type": "code",
   "execution_count": 14,
   "metadata": {},
   "outputs": [
    {
     "name": "stdout",
     "output_type": "stream",
     "text": [
      "[1, 2, 3, 4, 5, 6, 7, 8, 9, 10, 2, 4, 6, 10, 12, 14, 16, 18, 20]\n"
     ]
    }
   ],
   "source": [
    "numeros.append(numeros[0] * 2)\n",
    "numeros.append(numeros[1] * 2)\n",
    "numeros.append(numeros[2] * 2)\n",
    "numeros.append(numeros[4] * 2)\n",
    "numeros.append(numeros[5] * 2)\n",
    "numeros.append(numeros[6] * 2)\n",
    "numeros.append(numeros[7] * 2)\n",
    "numeros.append(numeros[8] * 2)\n",
    "numeros.append(numeros[9] * 2)\n",
    "print(numeros)\n"
   ]
  },
  {
   "cell_type": "markdown",
   "metadata": {},
   "source": [
    "## Ejercicio 6. Elimina elementos de la lista numeros "
   ]
  },
  {
   "cell_type": "code",
   "execution_count": 15,
   "metadata": {},
   "outputs": [
    {
     "name": "stdout",
     "output_type": "stream",
     "text": [
      "[1, 3, 4, 5, 6, 7, 8, 9, 10, 2, 4, 6, 10, 12, 14, 16, 18, 20]\n"
     ]
    }
   ],
   "source": [
    "# Elimar un valor de la lista. eliminar el 2\n",
    "numeros.remove(2)\n",
    "print(numeros)\n"
   ]
  },
  {
   "cell_type": "code",
   "execution_count": 16,
   "metadata": {},
   "outputs": [
    {
     "name": "stdout",
     "output_type": "stream",
     "text": [
      "[1, 3, 4, 6, 7, 8, 9, 10, 2, 4, 6, 10, 12, 14, 16, 18, 20]\n"
     ]
    }
   ],
   "source": [
    "# Eliminar el valor en la pocicion 3\n",
    "numeros.pop(3)\n",
    "print(numeros) "
   ]
  },
  {
   "cell_type": "code",
   "execution_count": 17,
   "metadata": {},
   "outputs": [
    {
     "name": "stdout",
     "output_type": "stream",
     "text": [
      "[1, 3, 4, 6, 7, 8, 9, 10, 2, 4, 6, 10, 12, 14, 16, 18]\n"
     ]
    }
   ],
   "source": [
    "# Eleminar el ultimo valor de la lista, sin usar el metodo pop \n",
    "numeros = numeros[:-1]\n",
    "print(numeros)"
   ]
  },
  {
   "cell_type": "code",
   "execution_count": 18,
   "metadata": {},
   "outputs": [
    {
     "name": "stdout",
     "output_type": "stream",
     "text": [
      "La lista numeros contiene: []\n",
      "La lista pedro contiene: []\n"
     ]
    }
   ],
   "source": [
    "# Vaciar las listas numeros y pedro \n",
    "numeros.clear()                      # vaciar la lista numeros\n",
    "pedro.clear()                        # vaciar la lista pedro \n",
    "print(f\"La lista numeros contiene: {numeros}\")\n",
    "print(f\"La lista pedro contiene: {pedro}\")\n"
   ]
  }
 ],
 "metadata": {
  "kernelspec": {
   "display_name": "Python 3",
   "language": "python",
   "name": "python3"
  },
  "language_info": {
   "codemirror_mode": {
    "name": "ipython",
    "version": 3
   },
   "file_extension": ".py",
   "mimetype": "text/x-python",
   "name": "python",
   "nbconvert_exporter": "python",
   "pygments_lexer": "ipython3",
   "version": "3.13.2"
  }
 },
 "nbformat": 4,
 "nbformat_minor": 2
}
